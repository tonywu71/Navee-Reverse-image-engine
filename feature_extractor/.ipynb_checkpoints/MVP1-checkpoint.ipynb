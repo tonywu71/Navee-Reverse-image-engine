{
 "cells": [
  {
   "cell_type": "code",
   "execution_count": 2,
   "metadata": {},
   "outputs": [
    {
     "data": {
      "text/plain": [
       "['',\n",
       " '/usr/lib/python3.4',\n",
       " '/usr/lib/python3.4/plat-x86_64-linux-gnu',\n",
       " '/usr/lib/python3.4/lib-dynload',\n",
       " '/root/.local/lib/python3.4/site-packages',\n",
       " '/usr/local/lib/python3.4/dist-packages',\n",
       " '/usr/lib/python3/dist-packages',\n",
       " '/usr/local/lib/python3.4/dist-packages/IPython/extensions',\n",
       " '/root/.ipython',\n",
       " '../data/',\n",
       " '../']"
      ]
     },
     "execution_count": 2,
     "metadata": {},
     "output_type": "execute_result"
    }
   ],
   "source": [
    "import sys\n",
    "sys.path.append('../data/')\n",
    "sys.path.append('../')\n",
    "sys.path"
   ]
  },
  {
   "cell_type": "code",
   "execution_count": null,
   "metadata": {},
   "outputs": [],
   "source": []
  },
  {
   "cell_type": "code",
   "execution_count": 3,
   "metadata": {},
   "outputs": [
    {
     "name": "stderr",
     "output_type": "stream",
     "text": [
      "Using TensorFlow backend.\n"
     ]
    }
   ],
   "source": [
    "from feature_extractor import *\n",
    "from Data_Gen import *\n",
    "from data import *"
   ]
  },
  {
   "cell_type": "code",
   "execution_count": 4,
   "metadata": {},
   "outputs": [
    {
     "name": "stdout",
     "output_type": "stream",
     "text": [
      "WARNING:tensorflow:From /usr/local/lib/python3.4/dist-packages/keras/backend/tensorflow_backend.py:4070: The name tf.nn.max_pool is deprecated. Please use tf.nn.max_pool2d instead.\n",
      "\n"
     ]
    }
   ],
   "source": [
    "fe =feature_extractor(model_path='models/feature_extractor_90_256.json',weights_path='models/feature_extractor_90_256.h5')"
   ]
  },
  {
   "cell_type": "code",
   "execution_count": 4,
   "metadata": {},
   "outputs": [],
   "source": [
    "#model = load_model_json(model_path='models/feature_extractor1.json',weights_path='models/feature_extractor1.h5')"
   ]
  },
  {
   "cell_type": "code",
   "execution_count": 5,
   "metadata": {},
   "outputs": [
    {
     "data": {
      "text/plain": [
       "[213909634,\n",
       " 121634965,\n",
       " 60893791,\n",
       " 121634885,\n",
       " 79691931,\n",
       " 163577897,\n",
       " 226492547,\n",
       " 79691825,\n",
       " 129050139,\n",
       " 8388639,\n",
       " 146800737,\n",
       " 113246303,\n",
       " 50331773,\n",
       " 171966541,\n",
       " 142606409,\n",
       " 92274881,\n",
       " 230686741,\n",
       " 223044449,\n",
       " 186479027,\n",
       " 220900029,\n",
       " 222298285,\n",
       " 192938055,\n",
       " 105446125,\n",
       " 96469143,\n",
       " 222298297,\n",
       " 243269643,\n",
       " 26563943,\n",
       " 165642275,\n",
       " 4194462,\n",
       " 129324393,\n",
       " 164970811,\n",
       " 16777348,\n",
       " 125829195,\n",
       " 171966483,\n",
       " 249561091,\n",
       " 218103825,\n",
       " 54526119,\n",
       " 161590949,\n",
       " 113246295,\n",
       " 16777352,\n",
       " 210414273,\n",
       " 218103951,\n",
       " 130023491,\n",
       " 103459529,\n",
       " 20530707,\n",
       " 151694015,\n",
       " 113246369,\n",
       " 225724539,\n",
       " 37748877,\n",
       " 104857791,\n",
       " 159383615,\n",
       " 79691941,\n",
       " 163577891,\n",
       " 62914589,\n",
       " 226492521,\n",
       " 46927327,\n",
       " 115083675,\n",
       " 88080407,\n",
       " 4608935,\n",
       " 96469173,\n",
       " 134217807,\n",
       " 117440577,\n",
       " 163577903,\n",
       " 224022099,\n",
       " 699082,\n",
       " 216705711,\n",
       " 79691945,\n",
       " 167772177,\n",
       " 234881037,\n",
       " 203423745,\n",
       " 88080477,\n",
       " 54526069,\n",
       " 109052063,\n",
       " 37748913,\n",
       " 174300349,\n",
       " 83886227,\n",
       " 48933555,\n",
       " 54526109,\n",
       " 125829121,\n",
       " 163577899,\n",
       " 34253483,\n",
       " 1256985,\n",
       " 103459527,\n",
       " 130023533,\n",
       " 16777240,\n",
       " 232541647,\n",
       " 143825721,\n",
       " 16777350,\n",
       " 34253499,\n",
       " 177923107,\n",
       " 44385137,\n",
       " 49441287,\n",
       " 102848379,\n",
       " 176160827,\n",
       " 197132409,\n",
       " 48742967,\n",
       " 127038139,\n",
       " 155189401,\n",
       " 159078039,\n",
       " 99265201]"
      ]
     },
     "execution_count": 5,
     "metadata": {},
     "output_type": "execute_result"
    }
   ],
   "source": [
    "db = data_base('../data/data.sqlite')\n",
    "db.get_images_(100)"
   ]
  },
  {
   "cell_type": "code",
   "execution_count": 6,
   "metadata": {},
   "outputs": [],
   "source": [
    "list_ids = db.mids"
   ]
  },
  {
   "cell_type": "code",
   "execution_count": 7,
   "metadata": {},
   "outputs": [],
   "source": [
    "train_generator = DataGenerator(list_ids, emotions_l+content_l+media_l,db=db, pre = preprocess_image)"
   ]
  },
  {
   "cell_type": "code",
   "execution_count": 8,
   "metadata": {},
   "outputs": [],
   "source": [
    "a = train_generator[0][0]"
   ]
  },
  {
   "cell_type": "code",
   "execution_count": 9,
   "metadata": {},
   "outputs": [
    {
     "name": "stdout",
     "output_type": "stream",
     "text": [
      "WARNING:tensorflow:From /usr/local/lib/python3.4/dist-packages/keras/backend/tensorflow_backend.py:422: The name tf.global_variables is deprecated. Please use tf.compat.v1.global_variables instead.\n",
      "\n"
     ]
    },
    {
     "data": {
      "text/plain": [
       "array([[-0.93509793, -0.0139341 ,  0.31411684, ..., -0.7704923 ,\n",
       "         0.2144167 ,  0.19208565],\n",
       "       [-3.2188995 , -0.70740885,  2.2074194 , ..., -2.7673836 ,\n",
       "         1.3920145 , -1.2735488 ],\n",
       "       [-1.52386   ,  0.90381515,  0.5455674 , ..., -0.65409845,\n",
       "         0.37135473,  1.1247884 ],\n",
       "       ...,\n",
       "       [-1.2036997 ,  0.11403517,  0.40591756, ..., -1.1772395 ,\n",
       "         0.28911057,  0.15754281],\n",
       "       [-0.7358831 ,  0.14309889, -0.25649953, ..., -0.76190454,\n",
       "         0.23105463,  0.5832063 ],\n",
       "       [-2.3545392 ,  0.4659074 ,  0.56381094, ..., -3.6084437 ,\n",
       "         0.82513183,  0.6509462 ]], dtype=float32)"
      ]
     },
     "execution_count": 9,
     "metadata": {},
     "output_type": "execute_result"
    }
   ],
   "source": [
    "fe.predict(a)"
   ]
  },
  {
   "cell_type": "code",
   "execution_count": 10,
   "metadata": {},
   "outputs": [
    {
     "name": "stdout",
     "output_type": "stream",
     "text": [
      "Model: \"model_2\"\n",
      "_________________________________________________________________\n",
      "Layer (type)                 Output Shape              Param #   \n",
      "=================================================================\n",
      "resnet50_input (InputLayer)  (None, None, None, 3)     0         \n",
      "_________________________________________________________________\n",
      "resnet50 (Model)             (None, None, None, 2048)  23587712  \n",
      "_________________________________________________________________\n",
      "dropout_1 (Dropout)          (None, None, None, 2048)  0         \n",
      "_________________________________________________________________\n",
      "conv2d_1 (Conv2D)            (None, None, None, 1024)  18875392  \n",
      "_________________________________________________________________\n",
      "batch_normalization_1 (Batch (None, None, None, 1024)  4096      \n",
      "_________________________________________________________________\n",
      "global_average_pooling2d_1 ( (None, 1024)              0         \n",
      "_________________________________________________________________\n",
      "dropout_2 (Dropout)          (None, 1024)              0         \n",
      "_________________________________________________________________\n",
      "dense_1 (Dense)              (None, 1024)              1049600   \n",
      "_________________________________________________________________\n",
      "dense_2 (Dense)              (None, 512)               524800    \n",
      "_________________________________________________________________\n",
      "dense_3 (Dense)              (None, 256)               131328    \n",
      "=================================================================\n",
      "Total params: 44,172,928\n",
      "Trainable params: 23,999,744\n",
      "Non-trainable params: 20,173,184\n",
      "_________________________________________________________________\n"
     ]
    }
   ],
   "source": [
    "fe.model.summary()"
   ]
  },
  {
   "cell_type": "code",
   "execution_count": 11,
   "metadata": {},
   "outputs": [],
   "source": [
    "from keras.applications.resnet50 import preprocess_input\n",
    "def preprocess(x):\n",
    "    x = x.convert('RGB')\n",
    "    x = x.resize((224,224))\n",
    "    x = np.array(x)\n",
    "    return preprocess_input(x)"
   ]
  },
  {
   "cell_type": "code",
   "execution_count": 12,
   "metadata": {},
   "outputs": [
    {
     "data": {
      "text/plain": [
       "100"
      ]
     },
     "execution_count": 12,
     "metadata": {},
     "output_type": "execute_result"
    }
   ],
   "source": [
    "len(list_ids)"
   ]
  },
  {
   "cell_type": "code",
   "execution_count": 13,
   "metadata": {},
   "outputs": [],
   "source": [
    "from lshash import LSHash \n",
    "import pickle\n",
    "k = 10 # hash size\n",
    "L = 5  # number of tables\n",
    "d = 256 # Dimension of Feature vector\n",
    "lsh = LSHash(hash_size=k, input_dim=d, num_hashtables=L)# LSH on all the images\n",
    "\n",
    "\n",
    "\n",
    "def train():\n",
    "    for i in list_ids:\n",
    "        url = db.get_image(i)\n",
    "        vect = load_image(url)\n",
    "        #vect.show()\n",
    "        vect = preprocess(vect)\n",
    "        vect = np.expand_dims(vect,axis = 0)\n",
    "        \n",
    "        vect = fe.predict(vect)[0]\n",
    "        lsh.index(vect,extra_data=url)\n",
    "        print('ok')\n",
    "#train()\n",
    "#pickle.dump(lsh, open('../LSHash/lsh_256_100.p', \"wb\"))\n",
    "#lsh = pickle.load(open('../LSHash/lsh.p', \"rb\"))"
   ]
  },
  {
   "cell_type": "code",
   "execution_count": 17,
   "metadata": {},
   "outputs": [],
   "source": [
    "from multiprocessing import Process\n",
    "\n",
    "p1 = Process(target= train)\n",
    "p1.start()"
   ]
  },
  {
   "cell_type": "code",
   "execution_count": 25,
   "metadata": {},
   "outputs": [],
   "source": [
    "from PIL import Image\n",
    "def get_similar_item(img, lsh_variable, n_items=5,url = False):\n",
    "    if(url):\n",
    "        img = load_image(img)\n",
    "        img = preprocess(img)\n",
    "        img = np.expand_dims(img,axis = 0)\n",
    "        \n",
    "    vect = fe.predict(img)[0]\n",
    "    #print(vect)\n",
    "    response = lsh_variable.query(vect, \n",
    "                     num_results=n_items+1, distance_func='euclidean')\n",
    "    \n",
    "    return response"
   ]
  },
  {
   "cell_type": "code",
   "execution_count": 26,
   "metadata": {},
   "outputs": [],
   "source": [
    "i = 0\n",
    "j = 3\n",
    "#img = np.expand_dims(train_generator[i][0][j],axis = 0)\n",
    "#img = train_generator[i][0][j]\n",
    "#label = train_generator[i][1][j]\n",
    "url = 'https://i.pinimg.com/originals/a4/74/4a/a4744a3cdb166730d157626c6de3a853.jpg'\n",
    "res = get_similar_item(url,lsh,url=True)"
   ]
  },
  {
   "cell_type": "code",
   "execution_count": 27,
   "metadata": {},
   "outputs": [],
   "source": [
    "#res"
   ]
  },
  {
   "cell_type": "code",
   "execution_count": 28,
   "metadata": {},
   "outputs": [],
   "source": [
    "for i in res:\n",
    "    im = load_image(i[0][1])\n",
    "    im.show()\n",
    "    print(i[1])"
   ]
  },
  {
   "cell_type": "code",
   "execution_count": 29,
   "metadata": {},
   "outputs": [],
   "source": []
  },
  {
   "cell_type": "code",
   "execution_count": null,
   "metadata": {},
   "outputs": [],
   "source": []
  }
 ],
 "metadata": {
  "kernelspec": {
   "display_name": "Python 3",
   "language": "python",
   "name": "python3"
  },
  "language_info": {
   "codemirror_mode": {
    "name": "ipython",
    "version": 3
   },
   "file_extension": ".py",
   "mimetype": "text/x-python",
   "name": "python",
   "nbconvert_exporter": "python",
   "pygments_lexer": "ipython3",
   "version": "3.4.2"
  }
 },
 "nbformat": 4,
 "nbformat_minor": 2
}
