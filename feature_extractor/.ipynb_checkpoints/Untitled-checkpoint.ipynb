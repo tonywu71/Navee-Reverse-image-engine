{
 "cells": [
  {
   "cell_type": "code",
   "execution_count": 2,
   "metadata": {},
   "outputs": [],
   "source": [
    "import sys\n",
    "sys.path.append('../Data')\n",
    "sys.path.append('../')"
   ]
  },
  {
   "cell_type": "code",
   "execution_count": 3,
   "metadata": {},
   "outputs": [
    {
     "name": "stderr",
     "output_type": "stream",
     "text": [
      "Using TensorFlow backend.\n"
     ]
    }
   ],
   "source": [
    "from feature_extractor import *\n",
    "from Data_Gen import *\n",
    "from data import *"
   ]
  },
  {
   "cell_type": "code",
   "execution_count": 4,
   "metadata": {},
   "outputs": [
    {
     "name": "stdout",
     "output_type": "stream",
     "text": [
      "WARNING:tensorflow:From /usr/local/lib/python3.4/dist-packages/keras/backend/tensorflow_backend.py:4070: The name tf.nn.max_pool is deprecated. Please use tf.nn.max_pool2d instead.\n",
      "\n"
     ]
    }
   ],
   "source": [
    "fe =feature_extractor()"
   ]
  },
  {
   "cell_type": "code",
   "execution_count": 5,
   "metadata": {},
   "outputs": [],
   "source": [
    "#model = load_model_json(model_path='models/feature_extractor1.json',weights_path='models/feature_extractor1.h5')"
   ]
  },
  {
   "cell_type": "code",
   "execution_count": 6,
   "metadata": {},
   "outputs": [
    {
     "data": {
      "text/plain": [
       "[218103825,\n",
       " 164970811,\n",
       " 163577891,\n",
       " 249561091,\n",
       " 88080407,\n",
       " 176160827,\n",
       " 243269643,\n",
       " 230686741,\n",
       " 79691825,\n",
       " 48933555,\n",
       " 125829121,\n",
       " 163577897,\n",
       " 44385137,\n",
       " 8388639,\n",
       " 224022099,\n",
       " 102848379,\n",
       " 203423745,\n",
       " 159383615,\n",
       " 127038139,\n",
       " 62914589,\n",
       " 16777240,\n",
       " 234881037,\n",
       " 163577899,\n",
       " 99265201,\n",
       " 186479027,\n",
       " 4608935,\n",
       " 165642275,\n",
       " 34253483,\n",
       " 163577903,\n",
       " 174300349,\n",
       " 216705711,\n",
       " 49441287]"
      ]
     },
     "execution_count": 6,
     "metadata": {},
     "output_type": "execute_result"
    }
   ],
   "source": [
    "db = data_base('../Data/data.sqlite')\n",
    "db.get_images(32)"
   ]
  },
  {
   "cell_type": "code",
   "execution_count": 7,
   "metadata": {},
   "outputs": [],
   "source": [
    "list_ids = db.mids"
   ]
  },
  {
   "cell_type": "code",
   "execution_count": 8,
   "metadata": {},
   "outputs": [],
   "source": [
    "train_generator = DataGenerator(list_ids, [1],db=db, pre = preprocess_image)"
   ]
  },
  {
   "cell_type": "code",
   "execution_count": 9,
   "metadata": {},
   "outputs": [],
   "source": [
    "a = train_generator[0][0]"
   ]
  },
  {
   "cell_type": "code",
   "execution_count": 10,
   "metadata": {},
   "outputs": [
    {
     "name": "stdout",
     "output_type": "stream",
     "text": [
      "WARNING:tensorflow:From /usr/local/lib/python3.4/dist-packages/keras/backend/tensorflow_backend.py:422: The name tf.global_variables is deprecated. Please use tf.compat.v1.global_variables instead.\n",
      "\n"
     ]
    },
    {
     "data": {
      "text/plain": [
       "array([[0.        , 0.        , 0.19069287, ..., 0.        , 0.        ,\n",
       "        0.        ],\n",
       "       [0.        , 0.        , 0.05222582, ..., 0.        , 0.        ,\n",
       "        0.        ],\n",
       "       [0.        , 0.        , 0.1723787 , ..., 0.        , 0.        ,\n",
       "        0.        ],\n",
       "       ...,\n",
       "       [0.        , 0.        , 0.2685296 , ..., 0.        , 0.        ,\n",
       "        0.        ],\n",
       "       [0.        , 0.        , 0.18899791, ..., 0.        , 0.        ,\n",
       "        0.        ],\n",
       "       [0.        , 0.        , 0.14671208, ..., 0.        , 0.        ,\n",
       "        0.        ]], dtype=float32)"
      ]
     },
     "execution_count": 10,
     "metadata": {},
     "output_type": "execute_result"
    }
   ],
   "source": [
    "fe.predict(a)"
   ]
  },
  {
   "cell_type": "code",
   "execution_count": 12,
   "metadata": {},
   "outputs": [
    {
     "name": "stdout",
     "output_type": "stream",
     "text": [
      "Model: \"model_2\"\n",
      "_________________________________________________________________\n",
      "Layer (type)                 Output Shape              Param #   \n",
      "=================================================================\n",
      "resnet50_input (InputLayer)  (None, None, None, 3)     0         \n",
      "_________________________________________________________________\n",
      "resnet50 (Model)             (None, None, None, 2048)  23587712  \n",
      "_________________________________________________________________\n",
      "dropout_1 (Dropout)          (None, None, None, 2048)  0         \n",
      "_________________________________________________________________\n",
      "global_average_pooling2d_1 ( (None, 2048)              0         \n",
      "_________________________________________________________________\n",
      "dropout_2 (Dropout)          (None, 2048)              0         \n",
      "_________________________________________________________________\n",
      "dense_1 (Dense)              (None, 1024)              2098176   \n",
      "=================================================================\n",
      "Total params: 25,685,888\n",
      "Trainable params: 2,102,272\n",
      "Non-trainable params: 23,583,616\n",
      "_________________________________________________________________\n"
     ]
    }
   ],
   "source": [
    "fe.model.summary()"
   ]
  },
  {
   "cell_type": "code",
   "execution_count": 13,
   "metadata": {},
   "outputs": [],
   "source": [
    "from keras.applications.resnet50 import preprocess_input\n",
    "def preprocess(x):\n",
    "    x = x.convert('RGB')\n",
    "    x = x.resize((224,224))\n",
    "    x = np.array(x)\n",
    "    return preprocess_input(x)"
   ]
  },
  {
   "cell_type": "code",
   "execution_count": 14,
   "metadata": {},
   "outputs": [],
   "source": [
    "from lshash import LSHash \n",
    "import pickle\n",
    "k = 10 # hash size\n",
    "L = 5  # number of tables\n",
    "d = 512 # Dimension of Feature vector\n",
    "lsh = LSHash(hash_size=k, input_dim=d, num_hashtables=L)# LSH on all the images\n",
    "\n",
    "\n",
    "\n",
    "def train():\n",
    "    for i in train_generator.mids:\n",
    "        url = db.getimage(i)\n",
    "        vect = db.load_image(url)\n",
    "        vect.show()\n",
    "        vect = preprocess(vect)\n",
    "        \n",
    "        vect = feature_vector(i, feature_extractor,array=False)\n",
    "        lsh.index(vect,extra_data=i)\n",
    "train()\n",
    "#pickle.dump(lsh, open('lsh_.p', \"wb\"))\n",
    "#lsh = pickle.load(open('lsh.p', \"rb\"))"
   ]
  },
  {
   "cell_type": "code",
   "execution_count": null,
   "metadata": {},
   "outputs": [],
   "source": []
  }
 ],
 "metadata": {
  "kernelspec": {
   "display_name": "Python 3",
   "language": "python",
   "name": "python3"
  },
  "language_info": {
   "codemirror_mode": {
    "name": "ipython",
    "version": 3
   },
   "file_extension": ".py",
   "mimetype": "text/x-python",
   "name": "python",
   "nbconvert_exporter": "python",
   "pygments_lexer": "ipython3",
   "version": "3.4.2"
  }
 },
 "nbformat": 4,
 "nbformat_minor": 2
}
