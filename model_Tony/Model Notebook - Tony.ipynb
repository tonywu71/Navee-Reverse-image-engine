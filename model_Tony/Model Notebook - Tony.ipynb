{
 "cells": [
  {
   "cell_type": "markdown",
   "metadata": {},
   "source": [
    "<center> <font size='6' font-weight='bold'> Model Part </font> </center>  \n",
    "<center> <i> Projet Navee</i> </center>\n",
    "<center> <i> Tony WU </i> </center>  \n",
    "  \n",
    "  \n",
    "<img src=ressources/image_couverture.jpg>"
   ]
  },
  {
   "cell_type": "markdown",
   "metadata": {},
   "source": [
    "**Objective:** This notebook seeks to implement some tools to easily create models, train and predict."
   ]
  },
  {
   "cell_type": "markdown",
   "metadata": {},
   "source": [
    "# Prelude"
   ]
  },
  {
   "cell_type": "markdown",
   "metadata": {},
   "source": [
    "## Modules"
   ]
  },
  {
   "cell_type": "code",
   "execution_count": 1,
   "metadata": {
    "scrolled": true
   },
   "outputs": [],
   "source": [
    "import numpy as np\n",
    "import matplotlib.pyplot as plt\n",
    "import pandas as pd\n",
    "import os\n",
    "from datetime import datetime\n",
    "import io\n",
    "\n",
    "# Tensorflow\n",
    "import tensorflow as tf\n",
    "import tensorflow.keras as keras\n",
    "from tensorflow.keras.applications import ResNet50\n",
    "from tensorflow.keras.models import Sequential, load_model\n",
    "from tensorflow.keras.layers import Dense, Flatten, GlobalAveragePooling2D, BatchNormalization, Dropout\n",
    "from tensorflow.keras.applications.resnet50 import preprocess_input\n",
    "from tensorflow.keras.preprocessing.image import ImageDataGenerator\n",
    "from tensorflow.keras.preprocessing.image import load_img, img_to_array\n",
    "\n",
    "# Hyperparameters\n",
    "from tensorboard.plugins.hparams import api as hp\n",
    "\n",
    "# Interactive\n",
    "import ipywidgets as widgets\n",
    "from ipywidgets import interact, interactive, IntSlider\n",
    "from IPython.display import display"
   ]
  },
  {
   "cell_type": "markdown",
   "metadata": {},
   "source": [
    "## Checking environment"
   ]
  },
  {
   "cell_type": "markdown",
   "metadata": {},
   "source": [
    "### Jupyter vs Colab"
   ]
  },
  {
   "cell_type": "markdown",
   "metadata": {},
   "source": [
    "For convenience, we'll make sure that this notebook can run both on *Jupyter Notebook* as well as on *Google Colab*."
   ]
  },
  {
   "cell_type": "markdown",
   "metadata": {},
   "source": [
    "**The following cell generates a boolean that indicates if you're running with Colab:**"
   ]
  },
  {
   "cell_type": "code",
   "execution_count": 2,
   "metadata": {},
   "outputs": [
    {
     "name": "stdout",
     "output_type": "stream",
     "text": [
      "Colab not detected. ❌ Running on notebook 👩🏻‍💻\n"
     ]
    }
   ],
   "source": [
    "try:\n",
    "    import google.colab\n",
    "    IN_COLAB = True\n",
    "    print(\"Colab detected ✅\")\n",
    "except:\n",
    "    IN_COLAB = False\n",
    "    print(\"Colab not detected. ❌ Running on notebook 👩🏻‍💻\")"
   ]
  },
  {
   "cell_type": "markdown",
   "metadata": {},
   "source": [
    "If possible, please activate GPU for faster computation.  \n",
    "If using Colab, you'll have to go to `Runtime`, `Change runtime type` then select `GPU` in `Hardware Accelerator`."
   ]
  },
  {
   "cell_type": "code",
   "execution_count": 3,
   "metadata": {},
   "outputs": [
    {
     "name": "stdout",
     "output_type": "stream",
     "text": [
      "GPU device not found ❌\n"
     ]
    }
   ],
   "source": [
    "device_name = tf.test.gpu_device_name()\n",
    "if device_name != '/device:GPU:0':\n",
    "    print('GPU device not found ❌')\n",
    "else:\n",
    "    print('Found GPU at: {} ✅'.format(device_name))"
   ]
  },
  {
   "cell_type": "markdown",
   "metadata": {},
   "source": [
    "### Checking tensorflow version"
   ]
  },
  {
   "cell_type": "code",
   "execution_count": 4,
   "metadata": {},
   "outputs": [
    {
     "data": {
      "text/plain": [
       "'2.1.0'"
      ]
     },
     "execution_count": 4,
     "metadata": {},
     "output_type": "execute_result"
    }
   ],
   "source": [
    "print(tf.__version__)"
   ]
  },
  {
   "cell_type": "markdown",
   "metadata": {},
   "source": [
    "Should be `2.1.0` or higher."
   ]
  },
  {
   "cell_type": "code",
   "execution_count": 6,
   "metadata": {},
   "outputs": [],
   "source": [
    "assert(int(tf.__version__[0]) >= 2), \"You are using TensorFlow 1, please update before proceeding!\""
   ]
  },
  {
   "cell_type": "markdown",
   "metadata": {},
   "source": [
    "# Tensorboard callback configuration"
   ]
  },
  {
   "cell_type": "markdown",
   "metadata": {},
   "source": [
    "**Important :**\n",
    "Run the following cell in order to load tensorboard seemlessly in the notebook!"
   ]
  },
  {
   "cell_type": "code",
   "execution_count": 5,
   "metadata": {
    "scrolled": true
   },
   "outputs": [],
   "source": [
    "%load_ext tensorboard"
   ]
  },
  {
   "cell_type": "markdown",
   "metadata": {},
   "source": [
    "**If running in Colab, one shall check Tensorboard right here.**"
   ]
  },
  {
   "cell_type": "code",
   "execution_count": 6,
   "metadata": {},
   "outputs": [],
   "source": [
    "if IN_COLAB:\n",
    "    %tensorboard --logdir logs"
   ]
  },
  {
   "cell_type": "markdown",
   "metadata": {},
   "source": [
    "**NB:** Sometimes, it might not be enough to just refresh the Tensorboard. In last resort, please rerun the previous cell."
   ]
  },
  {
   "cell_type": "markdown",
   "metadata": {},
   "source": [
    "We'll store all the logs in a directory named `logs`.  \n",
    "In this folder, we'll have subfolders, each named according to what kind of data it stores. For instance, the line below creates a callback that is going to store scalars values (such as accuracy and loss with respect to epochs)."
   ]
  },
  {
   "cell_type": "markdown",
   "metadata": {},
   "source": [
    "‼️ **Global variables, may be required for the following functions:** ‼️\n",
    "- `logdir_scalars`: the path to the directory containing the scalar logs\n",
    "- `tensorboard_callback`: the basic callback that stores scalar data"
   ]
  },
  {
   "cell_type": "code",
   "execution_count": 7,
   "metadata": {},
   "outputs": [],
   "source": [
    "logdir_scalars = \"logs/scalars/\" + datetime.now().strftime(\"%Y%m%d-%H%M%S\")\n",
    "tensorboard_callback = keras.callbacks.TensorBoard(log_dir=logdir_scalars)"
   ]
  },
  {
   "cell_type": "markdown",
   "metadata": {},
   "source": [
    "**If not in Colab**, run `tensorboard --logdir logs` in Terminal to launch Tensorboard."
   ]
  },
  {
   "cell_type": "markdown",
   "metadata": {},
   "source": [
    "# Loading dataset"
   ]
  },
  {
   "cell_type": "markdown",
   "metadata": {},
   "source": [
    "The following cell will act only if in Colab.  \n",
    "If that's the case, follow the instruction to allow Colab to access your GoogleDrive."
   ]
  },
  {
   "cell_type": "code",
   "execution_count": 8,
   "metadata": {},
   "outputs": [],
   "source": [
    "if IN_COLAB:\n",
    "    from google.colab import drive\n",
    "    drive.mount('/content/drive',  force_remount=True)"
   ]
  },
  {
   "cell_type": "code",
   "execution_count": 9,
   "metadata": {},
   "outputs": [],
   "source": [
    "if IN_COLAB:\n",
    "    !wget https://bin.equinox.io/c/4VmDzA7iaHb/ngrok-stable-linux-amd64.zip\n",
    "    !unzip ngrok-stable-linux-amd64.zip"
   ]
  },
  {
   "cell_type": "markdown",
   "metadata": {},
   "source": [
    "The following lines make sure the given directory exists."
   ]
  },
  {
   "cell_type": "code",
   "execution_count": 10,
   "metadata": {
    "scrolled": true
   },
   "outputs": [
    {
     "name": "stdout",
     "output_type": "stream",
     "text": [
      "Current directory:\n",
      "\n",
      "/Users/Tony/Desktop/projet-navee/model_Tony\n"
     ]
    }
   ],
   "source": [
    "print(\"Current directory:\\n\")\n",
    "print(os.getcwd())"
   ]
  },
  {
   "cell_type": "code",
   "execution_count": 12,
   "metadata": {},
   "outputs": [
    {
     "name": "stdout",
     "output_type": "stream",
     "text": [
      "Dataset found 🤙🏻\n"
     ]
    }
   ],
   "source": [
    "data_path = '101_ObjectCategories'\n",
    "\n",
    "assert os.path.isdir(data_path), 'Dataset not found 👎🏻'\n",
    "print ('Dataset found 🤙🏻')"
   ]
  },
  {
   "cell_type": "markdown",
   "metadata": {},
   "source": [
    "The following lines make sure the given directory exists."
   ]
  },
  {
   "cell_type": "markdown",
   "metadata": {},
   "source": [
    "## Some useful functions"
   ]
  },
  {
   "cell_type": "code",
   "execution_count": 13,
   "metadata": {},
   "outputs": [],
   "source": [
    "def get_data(data_path, img_size, batch_size, validation_split = 0.2, **kwargs):\n",
    "    '''Given a directory containing all the images stored in folders named with the corresponding label,\n",
    "    this function returns two data generators object.\n",
    "    \n",
    "    Inputs:\n",
    "        - data_path = string\n",
    "        - img_size = 2-tuple of the images' dimensions\n",
    "        - batch_size = size of the batch (please input power of 2 for more efficiency)\n",
    "        - validation_split = float between 0 and 1 that gives the percentage allocated to the validation set\n",
    "        - **kwargs = optional dictionary which contains arguments for data augmentation\n",
    "        \n",
    "    Outputs:\n",
    "        - ImageDataGenerator object\n",
    "    '''\n",
    "    \n",
    "    datagen = ImageDataGenerator(rescale=1./255,\n",
    "                                 preprocessing_function=preprocess_input,\n",
    "                                 validation_split=validation_split,\n",
    "                                 **kwargs)\n",
    "    \n",
    "    train_generator = datagen.flow_from_directory(\n",
    "        data_path,\n",
    "        target_size=img_size,\n",
    "        batch_size=32,\n",
    "        class_mode='categorical',\n",
    "        subset = 'training')\n",
    "\n",
    "    validation_generator = datagen.flow_from_directory(\n",
    "        data_path,\n",
    "        target_size=img_size,\n",
    "        batch_size=32,\n",
    "        class_mode='categorical',\n",
    "        subset = 'validation')\n",
    "    \n",
    "    return train_generator, validation_generator"
   ]
  },
  {
   "cell_type": "code",
   "execution_count": 14,
   "metadata": {},
   "outputs": [],
   "source": [
    "def show_img(data_gen, batch_idx, idx):\n",
    "    ''''Display the prompted image with MatPlotLib.\n",
    "    \n",
    "    Inputs:\n",
    "        - data_gen = a generator returned by get_data for instance\n",
    "        - imgbatch_idx = the index of the batch\n",
    "        - idx = the index of the image inside the selected batch\n",
    "        \n",
    "    Outputs:\n",
    "        - an ImageDataGenerator object\n",
    "    '''\n",
    "    \n",
    "    \n",
    "    plt.imshow(data_gen[batch_idx][0][idx])\n",
    "    return "
   ]
  },
  {
   "cell_type": "code",
   "execution_count": 15,
   "metadata": {},
   "outputs": [],
   "source": [
    "def show_label(data_gen, batch_idx, idx):\n",
    "    ''''Returns the label of the prompted image.\n",
    "    \n",
    "    Inputs:\n",
    "        - data_gen = a generator returned by get_data for instance\n",
    "        - imgbatch_idx = the index of the batch\n",
    "        - idx = the index of the image inside the selected batch\n",
    "        \n",
    "    Outputs:\n",
    "        - a string\n",
    "    '''\n",
    "    \n",
    "    labels = (train_generator.class_indices)\n",
    "    labels = dict((v,k) for k,v in labels.items())\n",
    "    \n",
    "    return labels[np.argmax(data_gen[batch_idx][1][idx])]"
   ]
  },
  {
   "cell_type": "code",
   "execution_count": 16,
   "metadata": {},
   "outputs": [],
   "source": [
    "def get_batch_size(image_generator):\n",
    "    '''\n",
    "    Returns the number of batches of a set contained in an ImageGenerator object.\n",
    "    \n",
    "    Input:\n",
    "        - image_generator = ImageGenerator object\n",
    "    Output:\n",
    "        - len(train_generator) = number of batches\n",
    "    '''\n",
    "    return len(train_generator)"
   ]
  },
  {
   "cell_type": "markdown",
   "metadata": {},
   "source": [
    "## Some examples"
   ]
  },
  {
   "cell_type": "code",
   "execution_count": 17,
   "metadata": {},
   "outputs": [],
   "source": [
    "img_size = (120, 120)\n",
    "batch_size = 32"
   ]
  },
  {
   "cell_type": "code",
   "execution_count": 18,
   "metadata": {
    "scrolled": true
   },
   "outputs": [
    {
     "name": "stdout",
     "output_type": "stream",
     "text": [
      "Found 7356 images belonging to 102 classes.\n",
      "Found 1788 images belonging to 102 classes.\n"
     ]
    }
   ],
   "source": [
    "train_generator, validation_generator = get_data(data_path, img_size, batch_size, validation_split = 0.2)"
   ]
  },
  {
   "cell_type": "code",
   "execution_count": 19,
   "metadata": {},
   "outputs": [
    {
     "name": "stdout",
     "output_type": "stream",
     "text": [
      "nb_batches = 230\n"
     ]
    }
   ],
   "source": [
    "nb_batches = get_batch_size(train_generator)\n",
    "print(f'nb_batches = {nb_batches}')"
   ]
  },
  {
   "cell_type": "code",
   "execution_count": 20,
   "metadata": {},
   "outputs": [
    {
     "name": "stderr",
     "output_type": "stream",
     "text": [
      "Clipping input data to the valid range for imshow with RGB data ([0..1] for floats or [0..255] for integers).\n"
     ]
    },
    {
     "data": {
      "text/plain": [
       "'Leopards'"
      ]
     },
     "execution_count": 20,
     "metadata": {},
     "output_type": "execute_result"
    },
    {
     "data": {
      "image/png": "[encoded data removed]",
      "text/plain": [
       "<Figure size 432x288 with 1 Axes>"
      ]
     },
     "metadata": {
      "needs_background": "light"
     },
     "output_type": "display_data"
    }
   ],
   "source": [
    "batch_idx = np.random.randint(0, nb_batches)\n",
    "idx = np.random.randint(0, len(train_generator[0][0]))\n",
    "\n",
    "show_img(train_generator, batch_idx, idx)\n",
    "show_label(train_generator, batch_idx, idx)"
   ]
  },
  {
   "cell_type": "code",
   "execution_count": 21,
   "metadata": {},
   "outputs": [
    {
     "data": {
      "application/vnd.jupyter.widget-view+json": {
       "model_id": "a4d8ff4809fa4142be54ed9cdcf104e5",
       "version_major": 2,
       "version_minor": 0
      },
      "text/plain": [
       "interactive(children=(Dropdown(description='data_gen', index=1, options=(('train_generator', 0), ('validation_…"
      ]
     },
     "metadata": {},
     "output_type": "display_data"
    }
   ],
   "source": [
    "def explore_train_generator(data_gen_idx, batch_idx, idx):\n",
    "    data_gen = train_generator if data_gen_idx == 0 else validation_generator\n",
    "    show_label(data_gen, batch_idx, idx)\n",
    "    show_img(data_gen, batch_idx, idx)\n",
    "    return\n",
    "\n",
    "data_gen_idx_widget = widgets.Dropdown(\n",
    "    options=[('train_generator', 0), ('validation_generator', 1)],\n",
    "    value=1,\n",
    "    description='data_gen',\n",
    ")\n",
    "\n",
    "batch_idx_widget = IntSlider(min=0, max=10, step=1, continuous_update=False)\n",
    "idx_widget = IntSlider(min=0, max=100, step=1, continuous_update=False)\n",
    "\n",
    "def update_widgets(*args):\n",
    "    if data_gen_idx_widget.value == 0:\n",
    "        batch_idx_widget.max = len(train_generator)\n",
    "        idx_widget.max = len(train_generator[0][0]) - 1\n",
    "    else:\n",
    "        batch_idx_widget.max = len(validation_generator)\n",
    "        idx_widget.max = len(validation_generator[0][0]) - 1\n",
    "batch_idx_widget.observe(update_widgets, 'value')\n",
    "idx_widget.observe(update_widgets, 'value')\n",
    "\n",
    "interact(explore_train_generator,\n",
    "         data_gen_idx = data_gen_idx_widget,\n",
    "         batch_idx=batch_idx_widget,\n",
    "         idx=idx_widget);"
   ]
  },
  {
   "cell_type": "markdown",
   "metadata": {},
   "source": [
    "# Creating the model"
   ]
  },
  {
   "cell_type": "markdown",
   "metadata": {},
   "source": [
    "## Some utilities first"
   ]
  },
  {
   "cell_type": "markdown",
   "metadata": {},
   "source": [
    "We'll start from Matheus's empirical model which is the following:\n",
    "```python\n",
    "model = Sequential()\n",
    "model.add(ResNet50(include_top = False,weights = 'imagenet'))\n",
    "model.add(GlobalAveragePooling2D())\n",
    "model.add(Dropout(0.3))\n",
    "model.add(Dense(512,activation='relu'))\n",
    "model.add(Dense(102,activation='softmax'))\n",
    "```"
   ]
  },
  {
   "cell_type": "markdown",
   "metadata": {},
   "source": [
    "However, we choose instead to give to `generate_model` a `hparams` argument so much so that it'll be much easier to buid the hyperparameter tuning function and we won't have to hardcode those into the `generate_model` function.  \n",
    "Moreover, all the following functions automatically log their data in *Tensorboard*."
   ]
  },
  {
   "cell_type": "code",
   "execution_count": 22,
   "metadata": {},
   "outputs": [],
   "source": [
    "def generate_model(hparams):\n",
    "    '''\n",
    "    A function that generates the model based on the hyperparameters that are given.\n",
    "    The model is not yet compiled, neither with the weights\n",
    "\n",
    "    Inputs:\n",
    "        - hparams: a dictionnary containning, at least, the following hyperparameters (in parenthesis is the hyperparameter key)\n",
    "          - 'HP_DROPOUT': value for dropout'\n",
    "          - 'HP_NUM_UNITS_RELU': number of units in the second to last (Dense) layer\n",
    "          - 'HP_NB_FROZEN_LAYERS': gives how many layers we'd like to freeze\n",
    "          - 'HP_LOSS': choice of the loss function\n",
    "\n",
    "    Output:\n",
    "            - a model compiled but not trained, with the given hyperparamaters\n",
    "\n",
    "    '''\n",
    "    \n",
    "    # Building the model step by step\n",
    "    model = Sequential()\n",
    "    model.add(ResNet50(include_top = False, weights = 'imagenet'))\n",
    "    model.add(GlobalAveragePooling2D())\n",
    "    model.add(Dropout(hparams['HP_DROPOUT']))\n",
    "    model.add(Dense(units=hparams['HP_NUM_UNITS_RELU'], activation='relu'))\n",
    "    model.add(Dense(102,activation='softmax'))\n",
    "    \n",
    "    model.compile(optimizer='adam', loss=hparams['HP_LOSS'], metrics=['accuracy'])\n",
    "    \n",
    "    # Freezing some layers depending of the corresponding hyperparameter  \n",
    "    for i in range(hparams['HP_NB_FROZEN_LAYERS']):\n",
    "            model.layers[0].layers[-(i+1)].trainable = False\n",
    "    \n",
    "    return model"
   ]
  },
  {
   "cell_type": "code",
   "execution_count": 23,
   "metadata": {},
   "outputs": [],
   "source": [
    "def fit_model(model, train_generator, epochs):\n",
    "    '''\n",
    "    This function trains the model given as an input as well as logging some useful data in Tensorboard.\n",
    "    SIDE-EFFECT as model is modified on place.\n",
    "    \n",
    "    Inputs:\n",
    "        - model: a compiled but not trained model\n",
    "        - train_generator: an ImageGenerator objects\n",
    "        - epochs: number of epochs\n",
    "\n",
    "    Output:\n",
    "      - a History object\n",
    "    '''\n",
    "    \n",
    "    # Tensorflow configuration\n",
    "    logdir_scalars = 'logs/scalars/'\n",
    "    \n",
    "    # Creating callbacks\n",
    "    tensorboard_callbacks = keras.callbacks.TensorBoard(log_dir=logdir_scalars)\n",
    "\n",
    "    # Fitting the model\n",
    "    history = model.fit_generator(\n",
    "        generator=train_generator,\n",
    "        steps_per_epoch=get_batch_size(train_generator),\n",
    "        epochs=epochs,\n",
    "        validation_data=validation_generator,\n",
    "        validation_steps= get_batch_size(validation_generator),\n",
    "        verbose=1,\n",
    "        shuffle=True,\n",
    "        callbacks=[tensorboard_callbacks]\n",
    "    )\n",
    "\n",
    "    return history"
   ]
  },
  {
   "cell_type": "code",
   "execution_count": 24,
   "metadata": {},
   "outputs": [],
   "source": [
    "def load_weights(model, weights_filepath):\n",
    "    '''\n",
    "    A function that loads weights to the model.\n",
    "    The function raise an exception if the file is not a .h5\n",
    "\n",
    "    Inputs:\n",
    "      - model: a generated keras model\n",
    "      - weights_filepath: the filepath to weights data, must be a .h5 file\n",
    "\n",
    "    Output:\n",
    "      - None\n",
    "    '''\n",
    "    \n",
    "    assert os.isfile(weights_filepath), 'Weights file not found 👎🏻'\n",
    "    print('Weights file found 🤙🏻')\n",
    "    \n",
    "    model.load_weights('weigths_filepath')\n",
    "    return"
   ]
  },
  {
   "cell_type": "markdown",
   "metadata": {},
   "source": [
    "## Example with Matheus's empirical results"
   ]
  },
  {
   "cell_type": "code",
   "execution_count": 25,
   "metadata": {},
   "outputs": [],
   "source": [
    "hparams = {\n",
    "    'HP_DROPOUT': 0.3,\n",
    "    'HP_NUM_UNITS_RELU': 512,\n",
    "    'HP_NB_FROZEN_LAYERS': 1,\n",
    "    'HP_LOSS': 'categorical_crossentropy'\n",
    "}"
   ]
  },
  {
   "cell_type": "code",
   "execution_count": 26,
   "metadata": {
    "scrolled": true
   },
   "outputs": [
    {
     "name": "stdout",
     "output_type": "stream",
     "text": [
      "Model: \"sequential\"\n",
      "_________________________________________________________________\n",
      "Layer (type)                 Output Shape              Param #   \n",
      "=================================================================\n",
      "resnet50 (Model)             (None, None, None, 2048)  23587712  \n",
      "_________________________________________________________________\n",
      "global_average_pooling2d (Gl (None, 2048)              0         \n",
      "_________________________________________________________________\n",
      "dropout (Dropout)            (None, 2048)              0         \n",
      "_________________________________________________________________\n",
      "dense (Dense)                (None, 512)               1049088   \n",
      "_________________________________________________________________\n",
      "dense_1 (Dense)              (None, 102)               52326     \n",
      "=================================================================\n",
      "Total params: 24,689,126\n",
      "Trainable params: 24,636,006\n",
      "Non-trainable params: 53,120\n",
      "_________________________________________________________________\n"
     ]
    }
   ],
   "source": [
    "model = generate_model(hparams)\n",
    "model.summary()"
   ]
  },
  {
   "cell_type": "markdown",
   "metadata": {},
   "source": [
    "**Expected results:**  \n",
    "- Total params: 24,689,126\n",
    "- Trainable params: 24,636,006\n",
    "- Non-trainable params: 53,120"
   ]
  },
  {
   "cell_type": "code",
   "execution_count": 28,
   "metadata": {},
   "outputs": [
    {
     "data": {
      "application/vnd.jupyter.widget-view+json": {
       "model_id": "97d8bca28a414a498fdf9b0a282e7055",
       "version_major": 2,
       "version_minor": 0
      },
      "text/plain": [
       "Button(description='Click to train model', style=ButtonStyle())"
      ]
     },
     "metadata": {},
     "output_type": "display_data"
    }
   ],
   "source": [
    "button = widgets.Button(\n",
    "    description='Click to train model',\n",
    ")\n",
    "\n",
    "@button.on_click\n",
    "def train_on_click(b=None):\n",
    "    epochs=2\n",
    "    fit_model(model, train_generator, epochs)\n",
    "    return\n",
    "\n",
    "display(button)"
   ]
  },
  {
   "cell_type": "markdown",
   "metadata": {},
   "source": [
    "# Hyperparameters tuning"
   ]
  },
  {
   "cell_type": "markdown",
   "metadata": {},
   "source": [
    "## Utilities"
   ]
  },
  {
   "cell_type": "markdown",
   "metadata": {},
   "source": [
    "Below is an alternative version of `fit_model` that has to be used with the `tune_hparams` function (defined later)."
   ]
  },
  {
   "cell_type": "code",
   "execution_count": 29,
   "metadata": {},
   "outputs": [],
   "source": [
    "def fit_model_hparams(model, hparams, train_generator, epochs):\n",
    "    '''\n",
    "    This function trains the model given as an input.\n",
    "    SIDE-EFFECT as model is modified on place.\n",
    "    \n",
    "    Inputs:\n",
    "        - model: a compiled but not trained model\n",
    "        - hparams: a dictionnary containning, at least, the following hyperparameters (in parenthesis is the hyperparameter key)\n",
    "          - 'HP_DROPOUT': value for dropout'\n",
    "          - 'HP_NUM_UNITS_RELU': number of units in the second to last (Dense) layer\n",
    "          - 'HP_NB_FROZEN_LAYERS': gives how many layers we'd like to freeze\n",
    "          - 'HP_LOSS': choice of the loss function\n",
    "      - train_generator: an ImageGenerator object\n",
    "      - epochs: number of epochs\n",
    "\n",
    "    Output:\n",
    "      - a History object\n",
    "    '''\n",
    "    \n",
    "    # Tensorflow configuration\n",
    "    logdir_scalars = 'logs/scalars/'\n",
    "    \n",
    "    # Creating callbacks\n",
    "    tensorboard_callbacks = keras.callbacks.TensorBoard(log_dir=logdir_scalars)\n",
    "    tensorboard_callbacks_hp = hp.KerasCallback(os.path.join(logdir, 'hyperparameters'), hparams)\n",
    "\n",
    "    # Fitting the model\n",
    "    history = model.fit_generator(\n",
    "        generator=train_generator,\n",
    "        steps_per_epoch=get_nb_batch(train_generator),\n",
    "        epochs=v,\n",
    "        validation_data=validation_generator,\n",
    "        validation_steps= get_nb_batch(validation_generator),\n",
    "        verbose=1,\n",
    "        shuffle=True,\n",
    "        callbacks=[tensorboard_callbacks, tensorboard_callbacks_hp]\n",
    "    )\n",
    "\n",
    "    return history"
   ]
  },
  {
   "cell_type": "code",
   "execution_count": 30,
   "metadata": {},
   "outputs": [],
   "source": [
    "def fits_and_log_instance_hparams(model, hparams, train_generator, validation_generator, epochs):\n",
    "    '''\n",
    "    For each call, fits the model, logs an hparams summary with the hyperparameters and\n",
    "    final accuracy.\n",
    "    \n",
    "    - Inputs:\n",
    "        - model: compiled but not trained model\n",
    "        - hparams: Dictionary containing all the hyperparameters\n",
    "        - train_generator: ImageGenerator object\n",
    "        - validation_generator: ImageGenerator object\n",
    "        - epochs: number of epochs\n",
    "    \n",
    "    - Output:\n",
    "        - None\n",
    "    '''\n",
    "    \n",
    "    logdir_hparams = os.path.join('logs', 'hyperparameters')\n",
    "    \n",
    "    with tf.summary.create_file_writer(logdir_hparams).as_default():\n",
    "        hp.hparams(hparams)  # record the values used in this run\n",
    "        history = fit_model_hparams(model, hparams, train_generator, validation_generator, epochs)\n",
    "        accuracy = history.history['accuracy']\n",
    "        \n",
    "        # Saving results\n",
    "        tf.summary.scalar('accuracy', accuracy, step=1)\n",
    "    return"
   ]
  },
  {
   "cell_type": "code",
   "execution_count": 47,
   "metadata": {},
   "outputs": [],
   "source": [
    "def tune_hparams(HPARAMS, train_generator, validation_generator, epochs):\n",
    "    '''\n",
    "    - Inputs:\n",
    "        - HPARAMS: Dictionary with the following keys:\n",
    "            - 'dropout'\n",
    "            - 'num_units_relu'\n",
    "            - 'nb_frozen_layers'\n",
    "            - 'loss'\n",
    "    \n",
    "    - Outputs:\n",
    "        None\n",
    "    '''\n",
    "    \n",
    "    # Keeping the number of the current iteration\n",
    "    session_num = 0\n",
    "    \n",
    "    for dropout in tf.linspace(HPARAMS['HP_DROPOUT'].domain.min_value, HPARAMS['HP_DROPOUT'].domain.max_value, 4):\n",
    "        for num_units_relu in HPARAMS['HP_NUM_UNITS_RELU'].domain.values:\n",
    "            for nb_frozen_layers in HPARAMS['HP_NB_FROZEN_LAYERS'].domain.values:\n",
    "                for loss in HPARAMS['HP_LOSS'].domain.values:\n",
    "                    \n",
    "                    # Setting run_name\n",
    "                    run_name = f\"run-{session_num}\"\n",
    "                    \n",
    "                    print(f'--- Starting trial: {run_name}\\n')                   \n",
    "                    \n",
    "                    # Dictionary that will be passed to the hparams_config function to save the\n",
    "                    # current config in Tensorboard.\n",
    "                    current_hparams = {\n",
    "                        HPARAMS['HP_DROPOUT'].name: float(\"%.2f\"%float(dropout)),\n",
    "                        # NB: float(\"%.2f\"%float(dropout_rate)) limits the number of decimals to 2\n",
    "                        HPARAMS['HP_NB_FROZEN_LAYERS'].name: nb_frozen_layers,\n",
    "                        HPARAMS['HP_NUM_UNITS_RELU'].name: num_units_relu,\n",
    "                        HPARAMS['HP_LOSS'].name: loss\n",
    "                    }\n",
    "                    \n",
    "                    print(f'Current hparams:\\n{current_hparams}\\n')\n",
    "                    \n",
    "                    # Creating and compiling model\n",
    "                    model = generate_model(current_hparams)\n",
    "                    \n",
    "                    # Saving data in Tensorboard\n",
    "                    with tf.summary.create_file_writer('logs/hparam_tuning').as_default():\n",
    "                        hp.hparams_config(\n",
    "                          hparams=current_hparams,\n",
    "                          metrics=[hp.Metric('accuracy', display_name='Accuracy')],\n",
    "                        )\n",
    "                    \n",
    "                    fits_and_log_instance_hparams(model, current_hparams, train_generator, validation_generator, epochs)\n",
    "                    print('\\n\\n\\n-------------------------------------------------------------\\n\\n')\n",
    "                    \n",
    "                    session_num += 1"
   ]
  },
  {
   "cell_type": "markdown",
   "metadata": {},
   "source": [
    "## Example"
   ]
  },
  {
   "cell_type": "code",
   "execution_count": 48,
   "metadata": {
    "scrolled": true
   },
   "outputs": [],
   "source": [
    "HPARAMS = {\n",
    "    'HP_DROPOUT': hp.HParam('dropout', hp.RealInterval(0.1, 0.4)),\n",
    "    'HP_NUM_UNITS_RELU': hp.HParam('num_units_relu', hp.Discrete([256, 512, 1024])),\n",
    "    'HP_NB_FROZEN_LAYERS': hp.HParam('nb_frozen_layers', hp.Discrete(list(range(0,5)))),\n",
    "    'HP_LOSS': hp.HParam('loss', hp.Discrete(['categorical_crossentropy']))\n",
    "    }"
   ]
  },
  {
   "cell_type": "code",
   "execution_count": 49,
   "metadata": {
    "scrolled": true
   },
   "outputs": [
    {
     "name": "stdout",
     "output_type": "stream",
     "text": [
      "--- Starting trial: run-0\n",
      "\n",
      "Current hparams:\n",
      "{'dropout': 0.1, 'nb_frozen_layers': 0, 'num_units_relu': 256, 'loss': 'categorical_crossentropy'}\n",
      "\n"
     ]
    },
    {
     "ename": "KeyError",
     "evalue": "'HP_DROPOUT'",
     "output_type": "error",
     "traceback": [
      "\u001b[0;31m---------------------------------------------------------------------------\u001b[0m",
      "\u001b[0;31mKeyError\u001b[0m                                  Traceback (most recent call last)",
      "\u001b[0;32m<ipython-input-49-02875cf204c5>\u001b[0m in \u001b[0;36m<module>\u001b[0;34m\u001b[0m\n\u001b[0;32m----> 1\u001b[0;31m \u001b[0mtune_hparams\u001b[0m\u001b[0;34m(\u001b[0m\u001b[0mHPARAMS\u001b[0m\u001b[0;34m,\u001b[0m \u001b[0mtrain_generator\u001b[0m\u001b[0;34m,\u001b[0m \u001b[0mvalidation_generator\u001b[0m\u001b[0;34m,\u001b[0m \u001b[0mepochs\u001b[0m\u001b[0;34m=\u001b[0m\u001b[0;36m1\u001b[0m\u001b[0;34m)\u001b[0m\u001b[0;34m\u001b[0m\u001b[0;34m\u001b[0m\u001b[0m\n\u001b[0m",
      "\u001b[0;32m<ipython-input-47-239715fae00e>\u001b[0m in \u001b[0;36mtune_hparams\u001b[0;34m(HPARAMS, train_generator, validation_generator, epochs)\u001b[0m\n\u001b[1;32m     38\u001b[0m \u001b[0;34m\u001b[0m\u001b[0m\n\u001b[1;32m     39\u001b[0m                     \u001b[0;31m# Creating and compiling model\u001b[0m\u001b[0;34m\u001b[0m\u001b[0;34m\u001b[0m\u001b[0;34m\u001b[0m\u001b[0m\n\u001b[0;32m---> 40\u001b[0;31m                     \u001b[0mmodel\u001b[0m \u001b[0;34m=\u001b[0m \u001b[0mgenerate_model\u001b[0m\u001b[0;34m(\u001b[0m\u001b[0mcurrent_hparams\u001b[0m\u001b[0;34m)\u001b[0m\u001b[0;34m\u001b[0m\u001b[0;34m\u001b[0m\u001b[0m\n\u001b[0m\u001b[1;32m     41\u001b[0m \u001b[0;34m\u001b[0m\u001b[0m\n\u001b[1;32m     42\u001b[0m                     \u001b[0;31m# Saving data in Tensorboard\u001b[0m\u001b[0;34m\u001b[0m\u001b[0;34m\u001b[0m\u001b[0;34m\u001b[0m\u001b[0m\n",
      "\u001b[0;32m<ipython-input-22-67dfe42c7c4e>\u001b[0m in \u001b[0;36mgenerate_model\u001b[0;34m(hparams)\u001b[0m\n\u001b[1;32m     20\u001b[0m     \u001b[0mmodel\u001b[0m\u001b[0;34m.\u001b[0m\u001b[0madd\u001b[0m\u001b[0;34m(\u001b[0m\u001b[0mResNet50\u001b[0m\u001b[0;34m(\u001b[0m\u001b[0minclude_top\u001b[0m \u001b[0;34m=\u001b[0m \u001b[0;32mFalse\u001b[0m\u001b[0;34m,\u001b[0m \u001b[0mweights\u001b[0m \u001b[0;34m=\u001b[0m \u001b[0;34m'imagenet'\u001b[0m\u001b[0;34m)\u001b[0m\u001b[0;34m)\u001b[0m\u001b[0;34m\u001b[0m\u001b[0;34m\u001b[0m\u001b[0m\n\u001b[1;32m     21\u001b[0m     \u001b[0mmodel\u001b[0m\u001b[0;34m.\u001b[0m\u001b[0madd\u001b[0m\u001b[0;34m(\u001b[0m\u001b[0mGlobalAveragePooling2D\u001b[0m\u001b[0;34m(\u001b[0m\u001b[0;34m)\u001b[0m\u001b[0;34m)\u001b[0m\u001b[0;34m\u001b[0m\u001b[0;34m\u001b[0m\u001b[0m\n\u001b[0;32m---> 22\u001b[0;31m     \u001b[0mmodel\u001b[0m\u001b[0;34m.\u001b[0m\u001b[0madd\u001b[0m\u001b[0;34m(\u001b[0m\u001b[0mDropout\u001b[0m\u001b[0;34m(\u001b[0m\u001b[0mhparams\u001b[0m\u001b[0;34m[\u001b[0m\u001b[0;34m'HP_DROPOUT'\u001b[0m\u001b[0;34m]\u001b[0m\u001b[0;34m)\u001b[0m\u001b[0;34m)\u001b[0m\u001b[0;34m\u001b[0m\u001b[0;34m\u001b[0m\u001b[0m\n\u001b[0m\u001b[1;32m     23\u001b[0m     \u001b[0mmodel\u001b[0m\u001b[0;34m.\u001b[0m\u001b[0madd\u001b[0m\u001b[0;34m(\u001b[0m\u001b[0mDense\u001b[0m\u001b[0;34m(\u001b[0m\u001b[0munits\u001b[0m\u001b[0;34m=\u001b[0m\u001b[0mhparams\u001b[0m\u001b[0;34m[\u001b[0m\u001b[0;34m'HP_NUM_UNITS_RELU'\u001b[0m\u001b[0;34m]\u001b[0m\u001b[0;34m,\u001b[0m \u001b[0mactivation\u001b[0m\u001b[0;34m=\u001b[0m\u001b[0;34m'relu'\u001b[0m\u001b[0;34m)\u001b[0m\u001b[0;34m)\u001b[0m\u001b[0;34m\u001b[0m\u001b[0;34m\u001b[0m\u001b[0m\n\u001b[1;32m     24\u001b[0m     \u001b[0mmodel\u001b[0m\u001b[0;34m.\u001b[0m\u001b[0madd\u001b[0m\u001b[0;34m(\u001b[0m\u001b[0mDense\u001b[0m\u001b[0;34m(\u001b[0m\u001b[0;36m102\u001b[0m\u001b[0;34m,\u001b[0m\u001b[0mactivation\u001b[0m\u001b[0;34m=\u001b[0m\u001b[0;34m'softmax'\u001b[0m\u001b[0;34m)\u001b[0m\u001b[0;34m)\u001b[0m\u001b[0;34m\u001b[0m\u001b[0;34m\u001b[0m\u001b[0m\n",
      "\u001b[0;31mKeyError\u001b[0m: 'HP_DROPOUT'"
     ]
    }
   ],
   "source": [
    "tune_hparams(HPARAMS, train_generator, validation_generator, epochs=1)"
   ]
  },
  {
   "cell_type": "code",
   "execution_count": null,
   "metadata": {},
   "outputs": [],
   "source": []
  },
  {
   "cell_type": "code",
   "execution_count": null,
   "metadata": {},
   "outputs": [],
   "source": []
  }
 ],
 "metadata": {
  "kernelspec": {
   "display_name": "Python 3",
   "language": "python",
   "name": "python3"
  },
  "language_info": {
   "codemirror_mode": {
    "name": "ipython",
    "version": 3
   },
   "file_extension": ".py",
   "mimetype": "text/x-python",
   "name": "python",
   "nbconvert_exporter": "python",
   "pygments_lexer": "ipython3",
   "version": "3.7.6"
  },
  "toc": {
   "base_numbering": 1,
   "nav_menu": {},
   "number_sections": true,
   "sideBar": true,
   "skip_h1_title": false,
   "title_cell": "Table of Contents",
   "title_sidebar": "Contents",
   "toc_cell": false,
   "toc_position": {
    "height": "calc(100% - 180px)",
    "left": "10px",
    "top": "150px",
    "width": "254.59375px"
   },
   "toc_section_display": true,
   "toc_window_display": true
  },
  "varInspector": {
   "cols": {
    "lenName": 16,
    "lenType": 16,
    "lenVar": 40
   },
   "kernels_config": {
    "python": {
     "delete_cmd_postfix": "",
     "delete_cmd_prefix": "del ",
     "library": "var_list.py",
     "varRefreshCmd": "print(var_dic_list())"
    },
    "r": {
     "delete_cmd_postfix": ") ",
     "delete_cmd_prefix": "rm(",
     "library": "var_list.r",
     "varRefreshCmd": "cat(var_dic_list()) "
    }
   },
   "types_to_exclude": [
    "module",
    "function",
    "builtin_function_or_method",
    "instance",
    "_Feature"
   ],
   "window_display": false
  }
 },
 "nbformat": 4,
 "nbformat_minor": 4
}
