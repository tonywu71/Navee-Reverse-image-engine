{
 "cells": [
  {
   "cell_type": "markdown",
   "metadata": {},
   "source": [
    "<center> <font size='6' font-weight='bold'> DataBase Downloader </font> </center>  \n",
    "<center> <i> Projet Navee</i> </center>\n",
    "<center> <i> Tony </i> </center>  "
   ]
  },
  {
   "cell_type": "markdown",
   "metadata": {},
   "source": [
    "**Objective:**  \n",
    "Since it's not suited to always have to redownload the whole training set each time we want to make tests on it, we want to implement a quick and simple algorithm to download a certain number of pictures in the `data_training` folder.  \n",
    "\n",
    "Those files are going to be named accordingly to their corresponding ID in the database (i.e. 19388.png).  \n",
    "\n",
    "What comes next is that we'll have to create class that inherits from *DataGenerator* (from Data_Gen.py) and we'll change its behavious so much so that everything works the same way (for instance how we can seek particular labels in the database) but instead of having to download the files, it will directly look into the `data_training` directory. Moreover, we'll add '... WHERE ID in {list_IDs}' to make sure we won't get IDs that weren't downloaded."
   ]
  },
  {
   "cell_type": "markdown",
   "metadata": {},
   "source": [
    "---"
   ]
  },
  {
   "cell_type": "markdown",
   "metadata": {},
   "source": [
    "**Paramaters:**  \n",
    "Please set `nb_images` to be equal to the number of images to include in the training set.  "
   ]
  },
  {
   "cell_type": "code",
   "execution_count": 45,
   "metadata": {},
   "outputs": [],
   "source": [
    "nb_images = 100"
   ]
  },
  {
   "cell_type": "markdown",
   "metadata": {},
   "source": [
    "# Preparations"
   ]
  },
  {
   "cell_type": "code",
   "execution_count": 3,
   "metadata": {},
   "outputs": [],
   "source": [
    "import os\n",
    "import numpy as np\n",
    "import matplotlib.pyplot as plt\n",
    "%matplotlib inline\n",
    "\n",
    "from urllib.request import urlretrieve # to download images from the web"
   ]
  },
  {
   "cell_type": "markdown",
   "metadata": {},
   "source": [
    "## Change to main file tree level."
   ]
  },
  {
   "cell_type": "code",
   "execution_count": 4,
   "metadata": {},
   "outputs": [
    {
     "data": {
      "text/plain": [
       "'/Users/Tony/Desktop/projet-navee/data'"
      ]
     },
     "execution_count": 4,
     "metadata": {},
     "output_type": "execute_result"
    }
   ],
   "source": [
    "os.getcwd()"
   ]
  },
  {
   "cell_type": "code",
   "execution_count": 5,
   "metadata": {},
   "outputs": [],
   "source": [
    "os.chdir('..')"
   ]
  },
  {
   "cell_type": "code",
   "execution_count": 6,
   "metadata": {},
   "outputs": [
    {
     "data": {
      "text/plain": [
       "'/Users/Tony/Desktop/projet-navee'"
      ]
     },
     "execution_count": 6,
     "metadata": {},
     "output_type": "execute_result"
    }
   ],
   "source": [
    "os.getcwd()"
   ]
  },
  {
   "cell_type": "markdown",
   "metadata": {},
   "source": [
    "## Imports"
   ]
  },
  {
   "cell_type": "code",
   "execution_count": 7,
   "metadata": {
    "scrolled": true
   },
   "outputs": [
    {
     "name": "stderr",
     "output_type": "stream",
     "text": [
      "Using TensorFlow backend.\n"
     ]
    }
   ],
   "source": [
    "from data import * # imports data.py\n",
    "from Data_Gen import * # imports Data_Gen.py"
   ]
  },
  {
   "cell_type": "markdown",
   "metadata": {},
   "source": [
    "## Config verification"
   ]
  },
  {
   "cell_type": "code",
   "execution_count": 8,
   "metadata": {},
   "outputs": [],
   "source": [
    "db_path = 'data/database_BAM.sqlite'"
   ]
  },
  {
   "cell_type": "markdown",
   "metadata": {},
   "source": [
    "Checking if the database has been correctly imported."
   ]
  },
  {
   "cell_type": "code",
   "execution_count": 9,
   "metadata": {
    "scrolled": true
   },
   "outputs": [
    {
     "name": "stdout",
     "output_type": "stream",
     "text": [
      "Dataset found 🤙🏻\n"
     ]
    }
   ],
   "source": [
    "assert os.path.exists(db_path), \"Database not found 👎🏻\\n\\\n",
    "    Please check that you've successfully copied the database in the data\\\n",
    "    directory after having cloned the project ‼️\"\n",
    "print ('Dataset found 🤙🏻')"
   ]
  },
  {
   "cell_type": "markdown",
   "metadata": {},
   "source": [
    "# Retrieving Data"
   ]
  },
  {
   "cell_type": "markdown",
   "metadata": {},
   "source": [
    "## Connecting to the database"
   ]
  },
  {
   "cell_type": "code",
   "execution_count": 10,
   "metadata": {},
   "outputs": [],
   "source": [
    "db = data_base(db_path)"
   ]
  },
  {
   "cell_type": "markdown",
   "metadata": {},
   "source": [
    "`db` is a custom object defined in `data.py`"
   ]
  },
  {
   "cell_type": "markdown",
   "metadata": {},
   "source": [
    "## Getting a subset of the data"
   ]
  },
  {
   "cell_type": "markdown",
   "metadata": {},
   "source": [
    "NB: `db.get_images_` has the following behavior:\n",
    "- If given the same amount of images, always return the same IDs (no seed needed).\n",
    "- However, for different values of `nb_images`, returns completely different images."
   ]
  },
  {
   "cell_type": "code",
   "execution_count": 46,
   "metadata": {},
   "outputs": [],
   "source": [
    "list_IDs = db.get_images_(nb_images)"
   ]
  },
  {
   "cell_type": "code",
   "execution_count": 47,
   "metadata": {},
   "outputs": [],
   "source": [
    "labels = {i:db.get_label(i) for i in list_IDs}"
   ]
  },
  {
   "cell_type": "markdown",
   "metadata": {},
   "source": [
    "`labels` has the shape:  \n",
    "{4288:\n",
    "[1, 0, 0, 0, 0, 0, 0, 0, 0, 0, 0, 0, 0, 0, 0, 0, 0, 0, 0, 0], ...}"
   ]
  },
  {
   "cell_type": "code",
   "execution_count": 48,
   "metadata": {},
   "outputs": [
    {
     "data": {
      "text/plain": [
       "100"
      ]
     },
     "execution_count": 48,
     "metadata": {},
     "output_type": "execute_result"
    }
   ],
   "source": [
    "len(list_IDs)"
   ]
  },
  {
   "cell_type": "code",
   "execution_count": 49,
   "metadata": {},
   "outputs": [
    {
     "data": {
      "text/plain": [
       "[171966541, 16777352, 54526109, 129050139, 34253499]"
      ]
     },
     "execution_count": 49,
     "metadata": {},
     "output_type": "execute_result"
    }
   ],
   "source": [
    "list_IDs[:5]"
   ]
  },
  {
   "cell_type": "markdown",
   "metadata": {},
   "source": [
    "## Downloading images"
   ]
  },
  {
   "cell_type": "code",
   "execution_count": 36,
   "metadata": {},
   "outputs": [],
   "source": [
    "def download_from_IDs(db, list_IDs, skip_errors=False, verbose=True):\n",
    "    '''Download all images with the corresponding IDs from the specified database.\n",
    "    \n",
    "    Inputs:\n",
    "        - db = data_base object\n",
    "        - list_IDs = list of IDs\n",
    "    Output:\n",
    "        - list_errors = list of the images's ID that couldn't be downloaded.\n",
    "    '''\n",
    "    \n",
    "    list_errors = []\n",
    "    \n",
    "    for ID in list_IDs:\n",
    "        url = db.get_image(ID)\n",
    "    \n",
    "        try:\n",
    "            # NB: All images from the BAM dataset are .jpg.\n",
    "            filePath = os.path.join('data_training', str(ID)+'.jpg')\n",
    "            urlretrieve(url, filePath)\n",
    "        \n",
    "        except:\n",
    "            if verbose:\n",
    "                print(f'Couldn\\'t download image from {url} which corresponds to ID #{ID}.\\n')\n",
    "            \n",
    "            list_errors.append(ID)\n",
    "            \n",
    "            if not(skip_errors):\n",
    "                print('Download interrupted.')\n",
    "    return list_errors\n",
    "\n",
    "def remove_IDs(list_IDs, IDs_to_remove):\n",
    "    '''Create a copy of list_IDS. Then removes all IDs from list_IDs that are in\n",
    "    IDs_to_remove.\n",
    "    \n",
    "    Inputs:\n",
    "        - list_IDs = list\n",
    "        - IDs_to_remove = list\n",
    "    Output:\n",
    "        - A new list.\n",
    "    '''\n",
    "    \n",
    "    return [ID for ID in list_IDs if ID not in IDs_to_remove]"
   ]
  },
  {
   "cell_type": "code",
   "execution_count": 50,
   "metadata": {
    "scrolled": true
   },
   "outputs": [
    {
     "name": "stdout",
     "output_type": "stream",
     "text": [
      "Couldn't download image from https://mir-s3-cdn-cf.behance.net/project_modules/disp/5416d333859704.56baca3371cd9.jpg which corresponds to ID #213909634.\n",
      "\n",
      "Couldn't download image from https://mir-s3-cdn-cf.behance.net/project_modules/disp/67997521968169.5630a6d5d3265.jpg which corresponds to ID #146800737.\n",
      "\n",
      "Couldn't download image from https://mir-s3-cdn-cf.behance.net/project_modules/disp/4d446c34359583.56cdcb5bf2703.jpg which corresponds to ID #216705711.\n",
      "\n",
      "Couldn't download image from https://mir-s3-cdn-cf.behance.net/project_modules/disp/b5af1024093285.5633010610133.jpg which corresponds to ID #159383615.\n",
      "\n",
      "Couldn't download image from https://mir-s3-cdn-cf.behance.net/project_modules/disp/a8ff3b16777240.5603af934184e.jpg which corresponds to ID #16777240.\n",
      "\n",
      "Couldn't download image from https://mir-s3-cdn-cf.behance.net/project_modules/disp/c3964517895527.562c0e8c6df45.jpg which corresponds to ID #121634965.\n",
      "\n",
      "Couldn't download image from https://mir-s3-cdn-cf.behance.net/project_modules/disp/376ad411622127.560faba9eff8d.jpg which corresponds to ID #83886227.\n",
      "\n",
      "Couldn't download image from https://mir-s3-cdn-cf.behance.net/project_modules/disp/6fbd1016615111.562aecff8e9e5.jpg which corresponds to ID #113246303.\n",
      "\n",
      "Couldn't download image from https://mir-s3-cdn-cf.behance.net/project_modules/disp/4de6a416615111.562aecff48458.jpg which corresponds to ID #113246295.\n",
      "\n",
      "Couldn't download image from https://mir-s3-cdn-cf.behance.net/project_modules/disp/1d0fe115099961.562b7ead4fdcf.png which corresponds to ID #117440577.\n",
      "\n",
      "Couldn't download image from https://mir-s3-cdn-cf.behance.net/project_modules/disp/dde49913289949.562721c820bb3.jpg which corresponds to ID #92274881.\n",
      "\n"
     ]
    },
    {
     "data": {
      "text/plain": [
       "[213909634,\n",
       " 146800737,\n",
       " 216705711,\n",
       " 159383615,\n",
       " 16777240,\n",
       " 121634965,\n",
       " 83886227,\n",
       " 113246303,\n",
       " 113246295,\n",
       " 117440577,\n",
       " 92274881]"
      ]
     },
     "execution_count": 50,
     "metadata": {},
     "output_type": "execute_result"
    }
   ],
   "source": [
    "list_errors = download_from_IDs(db, list_IDs, skip_errors=True, verbose=True)\n",
    "list_errors"
   ]
  },
  {
   "cell_type": "code",
   "execution_count": 51,
   "metadata": {},
   "outputs": [],
   "source": [
    "new_list = remove_IDs(list_IDs, list_errors)"
   ]
  },
  {
   "cell_type": "code",
   "execution_count": 57,
   "metadata": {},
   "outputs": [
    {
     "name": "stdout",
     "output_type": "stream",
     "text": [
      "89 downloaded images instead of 100.\n"
     ]
    }
   ],
   "source": [
    "print(f'{len(new_list)} downloaded images instead of {nb_images}.')"
   ]
  },
  {
   "cell_type": "code",
   "execution_count": null,
   "metadata": {},
   "outputs": [],
   "source": []
  },
  {
   "cell_type": "code",
   "execution_count": null,
   "metadata": {},
   "outputs": [],
   "source": []
  }
 ],
 "metadata": {
  "kernelspec": {
   "display_name": "Python 3",
   "language": "python",
   "name": "python3"
  },
  "language_info": {
   "codemirror_mode": {
    "name": "ipython",
    "version": 3
   },
   "file_extension": ".py",
   "mimetype": "text/x-python",
   "name": "python",
   "nbconvert_exporter": "python",
   "pygments_lexer": "ipython3",
   "version": "3.7.6"
  },
  "toc": {
   "base_numbering": 1,
   "nav_menu": {},
   "number_sections": true,
   "sideBar": true,
   "skip_h1_title": false,
   "title_cell": "Table of Contents",
   "title_sidebar": "Contents",
   "toc_cell": false,
   "toc_position": {},
   "toc_section_display": true,
   "toc_window_display": false
  },
  "varInspector": {
   "cols": {
    "lenName": 16,
    "lenType": 16,
    "lenVar": 40
   },
   "kernels_config": {
    "python": {
     "delete_cmd_postfix": "",
     "delete_cmd_prefix": "del ",
     "library": "var_list.py",
     "varRefreshCmd": "print(var_dic_list())"
    },
    "r": {
     "delete_cmd_postfix": ") ",
     "delete_cmd_prefix": "rm(",
     "library": "var_list.r",
     "varRefreshCmd": "cat(var_dic_list()) "
    }
   },
   "types_to_exclude": [
    "module",
    "function",
    "builtin_function_or_method",
    "instance",
    "_Feature"
   ],
   "window_display": false
  }
 },
 "nbformat": 4,
 "nbformat_minor": 4
}
